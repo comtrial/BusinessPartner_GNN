{
 "cells": [
  {
   "cell_type": "markdown",
   "metadata": {},
   "source": [
    "# Link Prediction with GNN\n",
    "---\n",
    "\n",
    "## Overview\n",
    "* Graph에 Edge가 존재하는 경우 positive, 존재하지 않을 경우 negative한 데이터로 학습"
   ]
  },
  {
   "cell_type": "code",
   "execution_count": 2,
   "metadata": {},
   "outputs": [
    {
     "name": "stderr",
     "output_type": "stream",
     "text": [
      "Using backend: pytorch\n"
     ]
    }
   ],
   "source": [
    "import dgl\n",
    "import torch\n",
    "import torch.nn as nn\n",
    "import torch.nn.functional as F\n",
    "import itertools\n",
    "import numpy as np\n",
    "import pandas as pd\n",
    "import scipy.sparse as sp\n",
    "%matplotlib inline"
   ]
  },
  {
   "cell_type": "markdown",
   "metadata": {},
   "source": [
    "## dgl(Deep Graph Libary) graph data type에 맞추기 위한 데이터 전처리\n",
    "\n",
    "1. node index의 max 값이 node의 최대 개수이다. \n",
    "   -> node index 를 edge가 연결된 node의 구성으로만 해야 dimension이 맞게 된다. \n",
    "\n",
    "2. dgl.ndata, dgl.edata 를 통해 node 와 edge의 feature 등록이 가능하다. \n",
    "\n"
   ]
  },
  {
   "cell_type": "code",
   "execution_count": 4,
   "metadata": {},
   "outputs": [
    {
     "data": {
      "text/html": [
       "<div>\n",
       "<style scoped>\n",
       "    .dataframe tbody tr th:only-of-type {\n",
       "        vertical-align: middle;\n",
       "    }\n",
       "\n",
       "    .dataframe tbody tr th {\n",
       "        vertical-align: top;\n",
       "    }\n",
       "\n",
       "    .dataframe thead th {\n",
       "        text-align: right;\n",
       "    }\n",
       "</style>\n",
       "<table border=\"1\" class=\"dataframe\">\n",
       "  <thead>\n",
       "    <tr style=\"text-align: right;\">\n",
       "      <th></th>\n",
       "      <th>index</th>\n",
       "      <th>Label</th>\n",
       "      <th>Id</th>\n",
       "      <th>업종명10차</th>\n",
       "    </tr>\n",
       "  </thead>\n",
       "  <tbody>\n",
       "    <tr>\n",
       "      <th>0</th>\n",
       "      <td>0</td>\n",
       "      <td>한화글로벌에셋(주)</td>\n",
       "      <td>2028163842</td>\n",
       "      <td>지주회사</td>\n",
       "    </tr>\n",
       "    <tr>\n",
       "      <th>1</th>\n",
       "      <td>1</td>\n",
       "      <td>미래스틸(주)</td>\n",
       "      <td>2448701051</td>\n",
       "      <td>1차 금속제품 도매업</td>\n",
       "    </tr>\n",
       "    <tr>\n",
       "      <th>2</th>\n",
       "      <td>2</td>\n",
       "      <td>(주)명성중공업</td>\n",
       "      <td>4188139383</td>\n",
       "      <td>육상 금속 골조 구조재 제조업</td>\n",
       "    </tr>\n",
       "    <tr>\n",
       "      <th>3</th>\n",
       "      <td>3</td>\n",
       "      <td>동신종합철강(주)</td>\n",
       "      <td>4018155158</td>\n",
       "      <td>그 외 기타 1차 철강 제조업</td>\n",
       "    </tr>\n",
       "    <tr>\n",
       "      <th>4</th>\n",
       "      <td>4</td>\n",
       "      <td>(주)탑에너지</td>\n",
       "      <td>5768700852</td>\n",
       "      <td>일반전기 공사업</td>\n",
       "    </tr>\n",
       "    <tr>\n",
       "      <th>...</th>\n",
       "      <td>...</td>\n",
       "      <td>...</td>\n",
       "      <td>...</td>\n",
       "      <td>...</td>\n",
       "    </tr>\n",
       "    <tr>\n",
       "      <th>352790</th>\n",
       "      <td>352790</td>\n",
       "      <td>코로나냉열기상사</td>\n",
       "      <td>6090793964</td>\n",
       "      <td>철물, 금속 파스너 및 수공구 도매업</td>\n",
       "    </tr>\n",
       "    <tr>\n",
       "      <th>352791</th>\n",
       "      <td>352791</td>\n",
       "      <td>도무스</td>\n",
       "      <td>6082062526</td>\n",
       "      <td>기타 일반 및 생활 숙박시설 운영업</td>\n",
       "    </tr>\n",
       "    <tr>\n",
       "      <th>352792</th>\n",
       "      <td>352792</td>\n",
       "      <td>주식회사 디일공이</td>\n",
       "      <td>6058625381</td>\n",
       "      <td>시계 및 귀금속 소매업</td>\n",
       "    </tr>\n",
       "    <tr>\n",
       "      <th>352793</th>\n",
       "      <td>352793</td>\n",
       "      <td>(주)동성택시</td>\n",
       "      <td>6098103123</td>\n",
       "      <td>택시 운송업</td>\n",
       "    </tr>\n",
       "    <tr>\n",
       "      <th>352794</th>\n",
       "      <td>352794</td>\n",
       "      <td>(유)신일주류</td>\n",
       "      <td>6158135348</td>\n",
       "      <td>주류 도매업</td>\n",
       "    </tr>\n",
       "  </tbody>\n",
       "</table>\n",
       "<p>352795 rows × 4 columns</p>\n",
       "</div>"
      ],
      "text/plain": [
       "         index       Label          Id                업종명10차\n",
       "0            0  한화글로벌에셋(주)  2028163842                  지주회사\n",
       "1            1     미래스틸(주)  2448701051           1차 금속제품 도매업\n",
       "2            2    (주)명성중공업  4188139383      육상 금속 골조 구조재 제조업\n",
       "3            3   동신종합철강(주)  4018155158      그 외 기타 1차 철강 제조업\n",
       "4            4     (주)탑에너지  5768700852              일반전기 공사업\n",
       "...        ...         ...         ...                   ...\n",
       "352790  352790    코로나냉열기상사  6090793964  철물, 금속 파스너 및 수공구 도매업\n",
       "352791  352791         도무스  6082062526   기타 일반 및 생활 숙박시설 운영업\n",
       "352792  352792   주식회사 디일공이  6058625381          시계 및 귀금속 소매업\n",
       "352793  352793     (주)동성택시  6098103123                택시 운송업\n",
       "352794  352794     (유)신일주류  6158135348                주류 도매업\n",
       "\n",
       "[352795 rows x 4 columns]"
      ]
     },
     "execution_count": 4,
     "metadata": {},
     "output_type": "execute_result"
    }
   ],
   "source": [
    "\n",
    "df_node = pd.read_csv(\"/Users/choeseung-won/Deep_Study/Business_Partner_Project/Data/company_node.csv\")\n",
    "df_edge = pd.read_csv(\"/Users/choeseung-won/Deep_Study/Business_Partner_Project/Data/company_edge.csv\")\n",
    "\n",
    "\n",
    "df_node.Id = df_node.Id.fillna(0).astype(int)\n",
    "df_edge = df_edge[['Source', 'Target']].fillna(0).astype(int)\n",
    "\n",
    "# 전처리\n",
    "df_node = df_node[df_node['Id'].isin(df_edge.Source) | df_node['Id'].isin(df_edge.Target)]\n",
    "df_node = df_node.drop_duplicates('Id').rename(columns={ \"from_업종명10차\": \"sector\"}).iloc[:, :3]\n",
    "# df_node['company_id'] = df_node.reindex().index\n",
    "df_node = df_node.drop_duplicates('Id').reset_index()\n",
    "\n",
    "\n",
    "# df_edge = df_edge[['Source', 'Target']].fillna(0).astype(int)\n",
    "df_edge['Source'] = df_edge.Source.map(lambda x: df_node[df_node['Id'] == x].index[0])\n",
    "df_edge['Target'] = df_edge.Target.map(lambda x: df_node[df_node['Id'] == x].index[0])\n",
    "# 자기자신\n",
    "df_edge = df_edge.append(pd.DataFrame({'Source': df_node.index.to_numpy(), 'Target': df_node.index.to_numpy()}))\n",
    "\n",
    "# # One - Hot\n",
    "# df_node = pd.get_dummies(df_node,prefix='', prefix_sep='', columns=['sector'])\n",
    "# to check by secter\n",
    "# df_node[df_node['1차 금속제품 도매업'] == 1]\n",
    "\n",
    "df_node.to_csv"
   ]
  },
  {
   "cell_type": "code",
   "execution_count": 5,
   "metadata": {},
   "outputs": [],
   "source": [
    "df_node.to_csv(\"/Users/choeseung-won/Deep_Study/Business_Partner_Project/Data/company_node_complete.csv\", index=False)\n",
    "df_edge.to_csv(\"/Users/choeseung-won/Deep_Study/Business_Partner_Project/Data/company_edge_complete.csv\", index=False)"
   ]
  },
  {
   "cell_type": "code",
   "execution_count": 3,
   "metadata": {},
   "outputs": [
    {
     "data": {
      "text/plain": [
       "Graph(num_nodes=3230, num_edges=6125,\n",
       "      ndata_schemes={'sector': Scheme(shape=(398,), dtype=torch.float32)}\n",
       "      edata_schemes={})"
      ]
     },
     "execution_count": 3,
     "metadata": {},
     "output_type": "execute_result"
    }
   ],
   "source": [
    "\n",
    "u, v = torch.LongTensor(df_edge.Source.to_numpy()), torch.LongTensor(df_edge.Target.to_numpy())\n",
    "g = dgl.graph((u, v))\n",
    "# g.ndata['sector'] = torch.ones(g.num_nodes(), 16)\n",
    "g.ndata['sector'] = torch.FloatTensor(df_node.iloc[:,3:].to_numpy())\n",
    "g"
   ]
  },
  {
   "cell_type": "code",
   "execution_count": 4,
   "metadata": {},
   "outputs": [],
   "source": [
    "# Split edge set for training and testing\n",
    "u, v = g.edges()\n",
    "\n",
    "eids = np.arange(g.number_of_edges())\n",
    "eids = np.random.permutation(eids)\n",
    "test_size = int(len(eids) * 0.1)\n",
    "train_size = g.number_of_edges() - test_size\n",
    "test_pos_u, test_pos_v = u[eids[:test_size]], v[eids[:test_size]]\n",
    "train_pos_u, train_pos_v = u[eids[test_size:]], v[eids[test_size:]]\n",
    "\n",
    "# Find all negative edges and split them for training and testing\n",
    "adj = sp.coo_matrix((np.ones(len(u)), (u.numpy(), v.numpy())))\n",
    "adj_neg = 1 - adj.todense() - np.eye(g.number_of_nodes())\n",
    "neg_u, neg_v = np.where(adj_neg != 0)\n",
    "\n",
    "neg_eids = np.random.choice(len(neg_u), g.number_of_edges() // 2)\n",
    "test_neg_u, test_neg_v = neg_u[neg_eids[:test_size]], neg_v[neg_eids[:test_size]]\n",
    "train_neg_u, train_neg_v = neg_u[neg_eids[test_size:]], neg_v[neg_eids[test_size:]]"
   ]
  },
  {
   "cell_type": "markdown",
   "metadata": {},
   "source": [
    "* Test data의 분리 \n",
    "\n",
    "test 데이터를 분리하기 위해서 `dgl.remove_edges`를 사용하여 제거 한다. \n"
   ]
  },
  {
   "cell_type": "code",
   "execution_count": 5,
   "metadata": {},
   "outputs": [
    {
     "data": {
      "text/plain": [
       "<3230x3230 sparse matrix of type '<class 'numpy.float64'>'\n",
       "\twith 6125 stored elements in COOrdinate format>"
      ]
     },
     "execution_count": 5,
     "metadata": {},
     "output_type": "execute_result"
    }
   ],
   "source": [
    "adj"
   ]
  },
  {
   "cell_type": "code",
   "execution_count": 6,
   "metadata": {},
   "outputs": [
    {
     "data": {
      "text/plain": [
       "Graph(num_nodes=3230, num_edges=5513,\n",
       "      ndata_schemes={'sector': Scheme(shape=(398,), dtype=torch.float32)}\n",
       "      edata_schemes={})"
      ]
     },
     "execution_count": 6,
     "metadata": {},
     "output_type": "execute_result"
    }
   ],
   "source": [
    "train_g = dgl.remove_edges(g, eids[:test_size])\n",
    "train_g"
   ]
  },
  {
   "cell_type": "markdown",
   "metadata": {},
   "source": [
    "# Define a GraphSAGE model\n",
    "------------------------\n",
    "\n",
    "* input : graph with pos, nag\n",
    "* output: graph with scored \n",
    "\n",
    "Task 에 따라서 loss를 달리 잡을 수 있다. 이 경우 link prediction 이기 때문에 Graph의 edge의 연결 여부를 score 로 계산하여 loss를 계산\n",
    "\n",
    "## 1. Embedding (GraphSAGE) \n",
    "Node의 feature들을 SageConv 방식으로 Embedding\n",
    "1. con1 (SAGEConv) 적용\n",
    "2. 활성화 함수(relu)\n",
    "3. conv2 (SAGEConv) 적용\n",
    "\n",
    "\n",
    "## 2. Prediction (DotPredictor)\n",
    "Embedding 된 h 를 통해 edge 들의 연결 여부를 score로 등록\n",
    "\n",
    "\n",
    "## 3. Train(loss)\n",
    "Predict 된 score(pos + nag)를 가진 graph와 실제 graph(label) 를 loss fuction(binary_entrophy)을 사용하여 학습\n"
   ]
  },
  {
   "cell_type": "code",
   "execution_count": 7,
   "metadata": {},
   "outputs": [],
   "source": [
    "from dgl.nn import SAGEConv\n",
    "\n",
    "# ----------- 2. create model -------------- #\n",
    "# build a two-layer GraphSAGE model\n",
    "class GraphSAGE(nn.Module):\n",
    "    def __init__(self, in_feats, h_feats):\n",
    "        super(GraphSAGE, self).__init__()\n",
    "        self.conv1 = SAGEConv(in_feats, h_feats, 'mean')\n",
    "        self.conv2 = SAGEConv(h_feats, h_feats, 'mean')\n",
    "    \n",
    "    def forward(self, g, in_feat):\n",
    "        h = self.conv1(g, in_feat)\n",
    "        h = F.relu(h)\n",
    "        h = self.conv2(g, h)\n",
    "        \n",
    "        return h"
   ]
  },
  {
   "cell_type": "code",
   "execution_count": 8,
   "metadata": {},
   "outputs": [],
   "source": [
    "train_pos_g = dgl.graph((train_pos_u, train_pos_v), num_nodes=g.number_of_nodes())\n",
    "train_neg_g = dgl.graph((train_neg_u, train_neg_v), num_nodes=g.number_of_nodes())\n",
    "\n",
    "test_pos_g = dgl.graph((test_pos_u, test_pos_v), num_nodes=g.number_of_nodes())\n",
    "test_neg_g = dgl.graph((test_neg_u, test_neg_v), num_nodes=g.number_of_nodes())"
   ]
  },
  {
   "cell_type": "code",
   "execution_count": 9,
   "metadata": {},
   "outputs": [],
   "source": [
    "import dgl.function as fn\n",
    "\n",
    "class DotPredictor(nn.Module):\n",
    "    def forward(self, g, h):\n",
    "        with g.local_scope():\n",
    "            g.ndata['h'] = h\n",
    "            # Compute a new edge feature named 'score' by a dot-product between the\n",
    "            # source node feature 'h' and destination node feature 'h'.\n",
    "            g.apply_edges(fn.u_dot_v('h', 'h', 'score'))\n",
    "            # u_dot_v returns a 1-element vector for each edge so you need to squeeze it.\n",
    "            return g.edata['score'][:, 0]"
   ]
  },
  {
   "cell_type": "markdown",
   "metadata": {},
   "source": []
  },
  {
   "cell_type": "code",
   "execution_count": 10,
   "metadata": {},
   "outputs": [],
   "source": [
    "model = GraphSAGE(train_g.ndata['sector'].shape[1], 16)\n",
    "# You can replace DotPredictor with MLPPredictor.\n",
    "#pred = MLPPredictor(16)\n",
    "pred = DotPredictor()\n",
    "\n",
    "def compute_loss(pos_score, neg_score):\n",
    "    scores = torch.cat([pos_score, neg_score])\n",
    "    labels = torch.cat([torch.ones(pos_score.shape[0]), torch.zeros(neg_score.shape[0])])\n",
    "\n",
    "    return F.binary_cross_entropy_with_logits(scores, labels)\n",
    "\n",
    "def compute_auc(pos_score, neg_score):\n",
    "    scores = torch.cat([pos_score, neg_score]).numpy()\n",
    "    labels = torch.cat(\n",
    "        [torch.ones(pos_score.shape[0]), torch.zeros(neg_score.shape[0])]).numpy()\n",
    "    return roc_auc_score(labels, scores)"
   ]
  },
  {
   "cell_type": "code",
   "execution_count": 11,
   "metadata": {},
   "outputs": [
    {
     "data": {
      "text/plain": [
       "torch.Size([3230, 398])"
      ]
     },
     "execution_count": 11,
     "metadata": {},
     "output_type": "execute_result"
    }
   ],
   "source": [
    "msg_fn = fn.copy_src('h', 'm')\n",
    "\n",
    "isinstance(train_g.ndata['sector'], tuple)\n",
    "train_g.dstdata['sector'].shape"
   ]
  },
  {
   "cell_type": "code",
   "execution_count": 14,
   "metadata": {},
   "outputs": [
    {
     "name": "stdout",
     "output_type": "stream",
     "text": [
      "In epoch 0, loss: 0.1457456648349762\n",
      "In epoch 100, loss: 0.08935333043336868\n",
      "In epoch 200, loss: 0.07932838797569275\n",
      "In epoch 300, loss: 0.07555355876684189\n",
      "In epoch 400, loss: 0.07356900721788406\n",
      "In epoch 500, loss: 0.07229695469141006\n",
      "In epoch 600, loss: 0.0714627206325531\n",
      "In epoch 700, loss: 0.07081196457147598\n",
      "In epoch 800, loss: 0.07016823440790176\n",
      "In epoch 900, loss: 0.06988298147916794\n",
      "AUC 0.7490374962621213\n"
     ]
    }
   ],
   "source": [
    "# ----------- 3. set up loss and optimizer -------------- #\n",
    "# in this case, loss will in training loop\n",
    "optimizer = torch.optim.Adam(itertools.chain(model.parameters(), pred.parameters()), lr=0.005)\n",
    "\n",
    "# ----------- 4. training -------------------------------- #\n",
    "all_logits = []\n",
    "for e in range(500):\n",
    "    # forward\n",
    "    h = model(train_g, train_g.ndata['sector'])\n",
    "    pos_score = pred(train_pos_g, h)\n",
    "    neg_score = pred(train_neg_g, h)\n",
    "    loss = compute_loss(pos_score, neg_score)\n",
    "\n",
    "\n",
    "    # backward\n",
    "    optimizer.zero_grad()\n",
    "    loss.backward()\n",
    "    optimizer.step()\n",
    "    \n",
    "    if e % 100 == 0:\n",
    "        print('In epoch {}, loss: {}'.format(e, loss))\n",
    "\n",
    "# ----------- 5. check results ------------------------ #\n",
    "from sklearn.metrics import roc_auc_score\n",
    "with torch.no_grad():\n",
    "    pos_score = pred(test_pos_g, h)\n",
    "    neg_score = pred(test_neg_g, h)\n",
    "    print('AUC', compute_auc(pos_score, neg_score))"
   ]
  },
  {
   "cell_type": "markdown",
   "metadata": {},
   "source": [
    "# Test section\n",
    "\n",
    "데이터를 학습된 graph 데이터(h_item) 과 맞춰주기 위하여 "
   ]
  },
  {
   "cell_type": "code",
   "execution_count": 15,
   "metadata": {},
   "outputs": [],
   "source": [
    "df_edge = pd.read_csv(\"/Users/choeseung-won/Deep_Study/Business_Partner_Project/Data/강원_edge.csv\")\n",
    "df_node = pd.read_csv(\"/Users/choeseung-won/Deep_Study/Business_Partner_Project/Data/강원_node.csv\")\n",
    "# 전처리\n",
    "df_node = df_node[df_node['Id'].isin(df_edge.Source) | df_node['Id'].isin(df_edge.Target)]\n",
    "df_node = df_node.drop_duplicates('Id').rename(columns={ \"from_업종명10차\": \"sector\"}).iloc[:, :3]\n",
    "# df_node['company_id'] = df_node.reindex().index\n",
    "df_node = df_node.drop_duplicates('Id').reset_index()\n"
   ]
  },
  {
   "cell_type": "code",
   "execution_count": 24,
   "metadata": {},
   "outputs": [
    {
     "data": {
      "text/plain": [
       "index                   1969\n",
       "Label               한일시멘트(주)\n",
       "Id                4638701012\n",
       "sector    건설용 석재 채굴 및 쇄석 생산업\n",
       "Name: 1701, dtype: object"
      ]
     },
     "execution_count": 24,
     "metadata": {},
     "output_type": "execute_result"
    }
   ],
   "source": [
    "# Query\n",
    "from scipy import spatial\n",
    "\n",
    "target_idx = 1701\n",
    "\n",
    "tree = spatial.KDTree(h.tolist())\n",
    "index_ids = tree.query(h[target_idx].tolist(), 10)[1]\n",
    "\n",
    "df_node.iloc[target_idx]"
   ]
  },
  {
   "cell_type": "code",
   "execution_count": 25,
   "metadata": {},
   "outputs": [
    {
     "data": {
      "text/html": [
       "<div>\n",
       "<style scoped>\n",
       "    .dataframe tbody tr th:only-of-type {\n",
       "        vertical-align: middle;\n",
       "    }\n",
       "\n",
       "    .dataframe tbody tr th {\n",
       "        vertical-align: top;\n",
       "    }\n",
       "\n",
       "    .dataframe thead th {\n",
       "        text-align: right;\n",
       "    }\n",
       "</style>\n",
       "<table border=\"1\" class=\"dataframe\">\n",
       "  <thead>\n",
       "    <tr style=\"text-align: right;\">\n",
       "      <th></th>\n",
       "      <th>index</th>\n",
       "      <th>Label</th>\n",
       "      <th>Id</th>\n",
       "      <th>sector</th>\n",
       "    </tr>\n",
       "  </thead>\n",
       "  <tbody>\n",
       "    <tr>\n",
       "      <th>1701</th>\n",
       "      <td>1969</td>\n",
       "      <td>한일시멘트(주)</td>\n",
       "      <td>4638701012</td>\n",
       "      <td>건설용 석재 채굴 및 쇄석 생산업</td>\n",
       "    </tr>\n",
       "    <tr>\n",
       "      <th>1228</th>\n",
       "      <td>1374</td>\n",
       "      <td>안동석재산업(주)</td>\n",
       "      <td>5088112765</td>\n",
       "      <td>건설용 석재 채굴 및 쇄석 생산업</td>\n",
       "    </tr>\n",
       "    <tr>\n",
       "      <th>1584</th>\n",
       "      <td>1825</td>\n",
       "      <td>(합자)태광레미콘</td>\n",
       "      <td>2228111203</td>\n",
       "      <td>건설용 석재 채굴 및 쇄석 생산업</td>\n",
       "    </tr>\n",
       "    <tr>\n",
       "      <th>2216</th>\n",
       "      <td>2651</td>\n",
       "      <td>정선엔지니어링</td>\n",
       "      <td>2298131379</td>\n",
       "      <td>제조업</td>\n",
       "    </tr>\n",
       "    <tr>\n",
       "      <th>2577</th>\n",
       "      <td>3150</td>\n",
       "      <td>메카</td>\n",
       "      <td>6458600020</td>\n",
       "      <td>제조업</td>\n",
       "    </tr>\n",
       "    <tr>\n",
       "      <th>1790</th>\n",
       "      <td>2083</td>\n",
       "      <td>신우하이텍</td>\n",
       "      <td>1378122945</td>\n",
       "      <td>제조업</td>\n",
       "    </tr>\n",
       "    <tr>\n",
       "      <th>251</th>\n",
       "      <td>267</td>\n",
       "      <td>대호이앤지</td>\n",
       "      <td>8108700709</td>\n",
       "      <td>제조업</td>\n",
       "    </tr>\n",
       "    <tr>\n",
       "      <th>1542</th>\n",
       "      <td>1772</td>\n",
       "      <td>케이투앤</td>\n",
       "      <td>2248153266</td>\n",
       "      <td>제조업</td>\n",
       "    </tr>\n",
       "    <tr>\n",
       "      <th>1942</th>\n",
       "      <td>2289</td>\n",
       "      <td>원광산업</td>\n",
       "      <td>2248137951</td>\n",
       "      <td>제조업</td>\n",
       "    </tr>\n",
       "    <tr>\n",
       "      <th>1444</th>\n",
       "      <td>1644</td>\n",
       "      <td>일광</td>\n",
       "      <td>1408152881</td>\n",
       "      <td>제조업</td>\n",
       "    </tr>\n",
       "  </tbody>\n",
       "</table>\n",
       "</div>"
      ],
      "text/plain": [
       "      index      Label          Id              sector\n",
       "1701   1969   한일시멘트(주)  4638701012  건설용 석재 채굴 및 쇄석 생산업\n",
       "1228   1374  안동석재산업(주)  5088112765  건설용 석재 채굴 및 쇄석 생산업\n",
       "1584   1825  (합자)태광레미콘  2228111203  건설용 석재 채굴 및 쇄석 생산업\n",
       "2216   2651    정선엔지니어링  2298131379                 제조업\n",
       "2577   3150         메카  6458600020                 제조업\n",
       "1790   2083      신우하이텍  1378122945                 제조업\n",
       "251     267      대호이앤지  8108700709                 제조업\n",
       "1542   1772       케이투앤  2248153266                 제조업\n",
       "1942   2289       원광산업  2248137951                 제조업\n",
       "1444   1644         일광  1408152881                 제조업"
      ]
     },
     "execution_count": 25,
     "metadata": {},
     "output_type": "execute_result"
    }
   ],
   "source": [
    "\n",
    "df_node.iloc[index_ids]"
   ]
  },
  {
   "cell_type": "markdown",
   "metadata": {},
   "source": [
    "# Visulaize section"
   ]
  },
  {
   "cell_type": "code",
   "execution_count": 26,
   "metadata": {},
   "outputs": [
    {
     "data": {
      "text/plain": [
       "(3230, 16)"
      ]
     },
     "execution_count": 26,
     "metadata": {},
     "output_type": "execute_result"
    }
   ],
   "source": [
    "h_item =  h.detach().numpy()\n",
    "h_item.shape"
   ]
  },
  {
   "cell_type": "code",
   "execution_count": 27,
   "metadata": {},
   "outputs": [],
   "source": [
    "%matplotlib inline\n",
    "\n",
    "import matplotlib.pyplot as plt\n",
    "from sklearn.manifold import TSNE\n",
    "\n",
    "from bokeh.models import *\n",
    "from bokeh.plotting import *\n",
    "from bokeh.io import *\n",
    "from bokeh.tile_providers import *\n",
    "from bokeh.palettes import *\n",
    "from bokeh.transform import *\n",
    "from bokeh.layouts import *\n",
    "\n",
    "from bokeh.plotting import figure, show\n",
    "from bokeh.sampledata.iris import flowers\n",
    "from bokeh.models import HoverTool\n",
    "\n",
    "model = TSNE(n_components=2,learning_rate=300)\n",
    "transformed = model.fit_transform(h_item)"
   ]
  },
  {
   "cell_type": "code",
   "execution_count": null,
   "metadata": {},
   "outputs": [
    {
     "ename": "Error",
     "evalue": "Session cannot generate requests",
     "output_type": "error",
     "traceback": [
      "Error: Session cannot generate requests",
      "at w.executeCodeCell (/Users/choeseung-won/.vscode/extensions/ms-toolsai.jupyter-2021.9.1101343141/out/client/extension.js:52:301180)",
      "at w.execute (/Users/choeseung-won/.vscode/extensions/ms-toolsai.jupyter-2021.9.1101343141/out/client/extension.js:52:300551)",
      "at w.start (/Users/choeseung-won/.vscode/extensions/ms-toolsai.jupyter-2021.9.1101343141/out/client/extension.js:52:296215)",
      "at runMicrotasks (<anonymous>)",
      "at processTicksAndRejections (internal/process/task_queues.js:93:5)",
      "at async t.CellExecutionQueue.executeQueuedCells (/Users/choeseung-won/.vscode/extensions/ms-toolsai.jupyter-2021.9.1101343141/out/client/extension.js:52:310950)",
      "at async t.CellExecutionQueue.start (/Users/choeseung-won/.vscode/extensions/ms-toolsai.jupyter-2021.9.1101343141/out/client/extension.js:52:310490)"
     ]
    }
   ],
   "source": [
    "df_node['x'] = transformed[:, 0]\n",
    "df_node['y'] = transformed[:, 1]\n",
    "df_node\n",
    "movies = df_node[['index', 'x', 'y', 'Label', 'sector']]"
   ]
  },
  {
   "cell_type": "code",
   "execution_count": null,
   "metadata": {},
   "outputs": [
    {
     "ename": "Error",
     "evalue": "Session cannot generate requests",
     "output_type": "error",
     "traceback": [
      "Error: Session cannot generate requests",
      "at w.executeCodeCell (/Users/choeseung-won/.vscode/extensions/ms-toolsai.jupyter-2021.9.1101343141/out/client/extension.js:52:301180)",
      "at w.execute (/Users/choeseung-won/.vscode/extensions/ms-toolsai.jupyter-2021.9.1101343141/out/client/extension.js:52:300551)",
      "at w.start (/Users/choeseung-won/.vscode/extensions/ms-toolsai.jupyter-2021.9.1101343141/out/client/extension.js:52:296215)",
      "at runMicrotasks (<anonymous>)",
      "at processTicksAndRejections (internal/process/task_queues.js:93:5)",
      "at async t.CellExecutionQueue.executeQueuedCells (/Users/choeseung-won/.vscode/extensions/ms-toolsai.jupyter-2021.9.1101343141/out/client/extension.js:52:310950)",
      "at async t.CellExecutionQueue.start (/Users/choeseung-won/.vscode/extensions/ms-toolsai.jupyter-2021.9.1101343141/out/client/extension.js:52:310490)"
     ]
    }
   ],
   "source": [
    "output_notebook()\n",
    "\n",
    "p = figure(title = \"Movie t-SNE by GNN\")\n",
    "p.xaxis.axis_label = 'x'\n",
    "p.yaxis.axis_label = 'y'\n",
    "\n",
    "color_column = []\n",
    "for genre in movies['sector'].unique().tolist():\n",
    "    color_column.append(genre)\n",
    "\n",
    "c = p.circle(x='x', y='y', color='red', fill_alpha=0.2, size=3, source=movies)\n",
    "\n",
    "c = p.circle(x='x', \n",
    "             y='y', \n",
    "             legend_field=\"sector\",\n",
    "             color=factor_cmap('sector', d3['Category20'][20], color_column),\n",
    "             fill_alpha=1, \n",
    "             size=3, \n",
    "             source=movies)\n",
    "\n",
    "\n",
    "circle_hover = HoverTool(tooltips=[('Label:', '@Label'), ('sector:', '@sector')], \n",
    "                         mode='mouse', \n",
    "                         point_policy='follow_mouse', \n",
    "                         renderers=[c])\n",
    "circle_hover.renderers.append(c)\n",
    "\n",
    "# mouse hover와 legend 정보 부착\n",
    "p.tools.append(circle_hover)\n",
    "p.legend.label_text_font_size = '5pt'\n",
    "p.legend.location = 'top_left'\n",
    "\n",
    "show(p)"
   ]
  }
 ],
 "metadata": {
  "interpreter": {
   "hash": "097f6b8f18ded6711e369c2794904cde9aa4c0d82a5e4c0399b64abd670072cc"
  },
  "kernelspec": {
   "display_name": "Python 3.8.12 64-bit ('base': conda)",
   "name": "python3"
  },
  "language_info": {
   "codemirror_mode": {
    "name": "ipython",
    "version": 3
   },
   "file_extension": ".py",
   "mimetype": "text/x-python",
   "name": "python",
   "nbconvert_exporter": "python",
   "pygments_lexer": "ipython3",
   "version": "3.8.12"
  }
 },
 "nbformat": 4,
 "nbformat_minor": 2
}
